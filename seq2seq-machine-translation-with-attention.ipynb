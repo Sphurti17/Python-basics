{
 "cells": [
  {
   "cell_type": "markdown",
   "metadata": {
    "papermill": {
     "duration": 0.023448,
     "end_time": "2021-03-30T10:22:04.400624",
     "exception": false,
     "start_time": "2021-03-30T10:22:04.377176",
     "status": "completed"
    },
    "tags": []
   },
   "source": [
    "## <p style=\"background-color:skyblue; font-family:newtimeroman; font-size:180%; text-align:center\">1. Introduction</p>\n",
    "\n",
    "Neural Machine Translation is a state-of-the-art machine translation approach that utilizes deep learning techniques to predict the likelihood of a set of words in sequence. In simple words it translates from one language to another. In the below image we see google translating from English to Hindi pretty efficiently.\n",
    "\n",
    "<img width=700, height=700, src=\"https://github.com/pashupati98/kaggle-archives/blob/main/img/google%20translate.PNG?raw=true\">\n",
    "\n",
    "\n",
    "> This notebook is pytorch based implementation of a seq2seq machine translation model. This implementaton is based on some papers and blogs (reference at the bottom). It covers the code in as much detail as possible rather than using high level frameworks."
   ]
  },
  {
   "cell_type": "code",
   "execution_count": 1,
   "metadata": {
    "_cell_guid": "b1076dfc-b9ad-4769-8c92-a6c4dae69d19",
    "_uuid": "8f2839f25d086af736a60e9eeb907d3b93b6e0e5",
    "execution": {
     "iopub.execute_input": "2021-03-30T10:22:04.452141Z",
     "iopub.status.busy": "2021-03-30T10:22:04.451310Z",
     "iopub.status.idle": "2021-03-30T10:22:07.348580Z",
     "shell.execute_reply": "2021-03-30T10:22:07.347373Z"
    },
    "papermill": {
     "duration": 2.926082,
     "end_time": "2021-03-30T10:22:07.348806",
     "exception": false,
     "start_time": "2021-03-30T10:22:04.422724",
     "status": "completed"
    },
    "tags": []
   },
   "outputs": [],
   "source": [
    "### Importing utilities\n",
    "from __future__ import unicode_literals, print_function, division\n",
    "import pandas as pd\n",
    "import numpy as np\n",
    "import time\n",
    "import math\n",
    "import pickle\n",
    "\n",
    "import matplotlib.pyplot as plt\n",
    "#plt.switch_backend('agg')\n",
    "import matplotlib.ticker as ticker\n",
    "from prettytable import PrettyTable\n",
    "\n",
    "import torch\n",
    "import torch.nn as nn\n",
    "from torch import optim\n",
    "import torch.nn.functional as F\n",
    "import  nltk.translate.bleu_score as bleu\n",
    "from matplotlib.font_manager import FontProperties\n",
    "\n",
    "from io import open\n",
    "import unicodedata\n",
    "import string\n",
    "import re\n",
    "import random\n",
    "import warnings\n",
    "warnings.filterwarnings(\"ignore\")"
   ]
  },
  {
   "cell_type": "code",
   "execution_count": 2,
   "metadata": {
    "execution": {
     "iopub.execute_input": "2021-03-30T10:22:07.404838Z",
     "iopub.status.busy": "2021-03-30T10:22:07.404056Z",
     "iopub.status.idle": "2021-03-30T10:22:07.406761Z",
     "shell.execute_reply": "2021-03-30T10:22:07.406349Z"
    },
    "papermill": {
     "duration": 0.034396,
     "end_time": "2021-03-30T10:22:07.406890",
     "exception": false,
     "start_time": "2021-03-30T10:22:07.372494",
     "status": "completed"
    },
    "tags": []
   },
   "outputs": [],
   "source": [
    "### Some parameters (Details in coming sections)\n",
    "SOS_token = 0\n",
    "EOS_token = 1\n",
    "UNK_token = 2\n",
    "\n",
    "MAX_LENGTH = 20\n",
    "teacher_forcing_ratio = 0.5\n",
    "hidden_size = 1000"
   ]
  },
  {
   "cell_type": "markdown",
   "metadata": {
    "papermill": {
     "duration": 0.022771,
     "end_time": "2021-03-30T10:22:07.453110",
     "exception": false,
     "start_time": "2021-03-30T10:22:07.430339",
     "status": "completed"
    },
    "tags": []
   },
   "source": [
    "# 2. Data Preparation \n",
    "\n",
    "The data for this task is a set of many English to hindi translation pairs. The Hindi-English Corpora available on Kaggle can also be used here."
   ]
  },
  {
   "cell_type": "code",
   "execution_count": 3,
   "metadata": {
    "execution": {
     "iopub.execute_input": "2021-03-30T10:22:07.502696Z",
     "iopub.status.busy": "2021-03-30T10:22:07.502188Z",
     "iopub.status.idle": "2021-03-30T10:22:07.545063Z",
     "shell.execute_reply": "2021-03-30T10:22:07.545545Z"
    },
    "papermill": {
     "duration": 0.069798,
     "end_time": "2021-03-30T10:22:07.545688",
     "exception": false,
     "start_time": "2021-03-30T10:22:07.475890",
     "status": "completed"
    },
    "tags": []
   },
   "outputs": [
    {
     "data": {
      "text/plain": [
       "[['I have a car.', 'मेरे पास एक गाड़ी है।'],\n",
       " ['I have a dog.', 'मेरे पास एक कुत्ता है।'],\n",
       " ['I understand.', 'मैं समझता हूँ।'],\n",
       " [\"I'm a doctor.\", 'मैं डॉक्टर हूँ।'],\n",
       " ['It is a book.', 'यह किताब है।'],\n",
       " [\"It's snowing.\", 'बरफ़ गिर रही है।'],\n",
       " [\"It's too big.\", 'बहुत ज़्यादा बड़ा है।'],\n",
       " ['Please leave.', 'कृपया जाईये।'],\n",
       " ['Unbelievable!', 'अविश्वसनीय!'],\n",
       " ['We are happy.', 'हम खुश हैं।']]"
      ]
     },
     "execution_count": 3,
     "metadata": {},
     "output_type": "execute_result"
    }
   ],
   "source": [
    "data = open('../input/englishhindi-pairs-data/eng-hin.txt', encoding='utf-8').\\\n",
    "        read().strip().split('\\n')\n",
    "pairs = [[s for s in l.split('\\t')[:2]] for l in data]\n",
    "pairs[100:110]"
   ]
  },
  {
   "cell_type": "markdown",
   "metadata": {
    "papermill": {
     "duration": 0.023456,
     "end_time": "2021-03-30T10:22:07.592631",
     "exception": false,
     "start_time": "2021-03-30T10:22:07.569175",
     "status": "completed"
    },
    "tags": []
   },
   "source": [
    "Now, we need the data in a format that is easy to process and feed. We’ll need a unique index per word to use as the inputs and targets of the networks later. To keep track of all this we will use a helper class called Lang which has word → index (word2index) and index → word (index2word) dictionaries, as well as a count of each word word2count to use to later replace rare words."
   ]
  },
  {
   "cell_type": "code",
   "execution_count": 4,
   "metadata": {
    "execution": {
     "iopub.execute_input": "2021-03-30T10:22:07.645844Z",
     "iopub.status.busy": "2021-03-30T10:22:07.645287Z",
     "iopub.status.idle": "2021-03-30T10:22:07.649489Z",
     "shell.execute_reply": "2021-03-30T10:22:07.649031Z"
    },
    "papermill": {
     "duration": 0.033853,
     "end_time": "2021-03-30T10:22:07.649607",
     "exception": false,
     "start_time": "2021-03-30T10:22:07.615754",
     "status": "completed"
    },
    "tags": []
   },
   "outputs": [],
   "source": [
    "class Lang:\n",
    "    def __init__(self, name):\n",
    "        self.name = name\n",
    "        self.word2index = {\"SOS\": 0, \"EOS\": 1, \"UNK\": 2}\n",
    "        self.word2count = {}\n",
    "        self.index2word = {0: \"SOS\", 1: \"EOS\", 2: \"UNK\"}\n",
    "        self.n_words = 3  # Count SOS and EOS\n",
    "\n",
    "    def addSentence(self, sentence):\n",
    "        for word in sentence.split(' '):\n",
    "            self.addWord(word)\n",
    "\n",
    "    def addWord(self, word):\n",
    "        if word not in self.word2index:\n",
    "            self.word2index[word] = self.n_words\n",
    "            self.word2count[word] = 1\n",
    "            self.index2word[self.n_words] = word\n",
    "            self.n_words += 1\n",
    "        else:\n",
    "            self.word2count[word] += 1"
   ]
  },
  {
   "cell_type": "markdown",
   "metadata": {
    "papermill": {
     "duration": 0.022621,
     "end_time": "2021-03-30T10:22:07.695513",
     "exception": false,
     "start_time": "2021-03-30T10:22:07.672892",
     "status": "completed"
    },
    "tags": []
   },
   "source": [
    "A function to turn Unicode characters to ASCII if needed. Another function to make everything lowercase, and trim most punctuation."
   ]
  },
  {
   "cell_type": "code",
   "execution_count": 5,
   "metadata": {
    "execution": {
     "iopub.execute_input": "2021-03-30T10:22:07.749062Z",
     "iopub.status.busy": "2021-03-30T10:22:07.747371Z",
     "iopub.status.idle": "2021-03-30T10:22:07.749626Z",
     "shell.execute_reply": "2021-03-30T10:22:07.750055Z"
    },
    "papermill": {
     "duration": 0.03136,
     "end_time": "2021-03-30T10:22:07.750206",
     "exception": false,
     "start_time": "2021-03-30T10:22:07.718846",
     "status": "completed"
    },
    "tags": []
   },
   "outputs": [],
   "source": [
    "# Turn a Unicode string to plain ASCII, thanks to\n",
    "# https://stackoverflow.com/a/518232/2809427\n",
    "def unicodeToAscii(s):\n",
    "    return ''.join(\n",
    "        c for c in unicodedata.normalize('NFD', s)\n",
    "        if unicodedata.category(c) != 'Mn'\n",
    "    )\n",
    "\n",
    "# Lowercase, trim, and remove non-letter characters\n",
    "\n",
    "\n",
    "def normalizeString(s):\n",
    "    s = unicodeToAscii(s.lower().strip())\n",
    "    s = re.sub(r\"([.!?])\", r\" \\1\", s)\n",
    "    s = re.sub(r\"[^a-zA-Z.!?]+\", r\" \", s)\n",
    "    return s"
   ]
  },
  {
   "cell_type": "markdown",
   "metadata": {
    "papermill": {
     "duration": 0.023879,
     "end_time": "2021-03-30T10:22:07.797008",
     "exception": false,
     "start_time": "2021-03-30T10:22:07.773129",
     "status": "completed"
    },
    "tags": []
   },
   "source": [
    "A function to read the data and to create objects of the Lang Class"
   ]
  },
  {
   "cell_type": "code",
   "execution_count": 6,
   "metadata": {
    "execution": {
     "iopub.execute_input": "2021-03-30T10:22:07.852342Z",
     "iopub.status.busy": "2021-03-30T10:22:07.851590Z",
     "iopub.status.idle": "2021-03-30T10:22:07.854498Z",
     "shell.execute_reply": "2021-03-30T10:22:07.854092Z"
    },
    "papermill": {
     "duration": 0.033497,
     "end_time": "2021-03-30T10:22:07.854615",
     "exception": false,
     "start_time": "2021-03-30T10:22:07.821118",
     "status": "completed"
    },
    "tags": []
   },
   "outputs": [],
   "source": [
    "def readLangs(lang1, lang2, reverse=False):\n",
    "    print(\"Started Loading Data...\")\n",
    "    print(\"Reading lines...\")\n",
    "\n",
    "    \n",
    "   # Read the file and split into lines\n",
    "    lines = open('../input/englishhindi-pairs-data/%s-%s.txt' % (lang1, lang2), encoding='utf-8').\\\n",
    "        read().strip().split('\\n')\n",
    "    \n",
    "    #print(lines)\n",
    "\n",
    "    # Split every line into pairs and normalize\n",
    "    pairs = [[s for s in l.split('\\t')[:2]] for l in lines]\n",
    "    \n",
    "    #print(pairs)\n",
    "    \n",
    "   \n",
    "    print(\"len\", len(pairs))\n",
    "    # pairs = [[normalizeString(s) for s in l.split('\\t')] for l in lines]\n",
    "\n",
    "    # Reverse pairs, make Lang instances\n",
    "    if reverse:\n",
    "        pairs = [list(reversed(p)) for p in pairs]\n",
    "        input_lang = Lang(lang2)\n",
    "        output_lang = Lang(lang1)\n",
    "    else:\n",
    "        input_lang = Lang(lang1)\n",
    "        output_lang = Lang(lang2)\n",
    "\n",
    "    return input_lang, output_lang, pairs"
   ]
  },
  {
   "cell_type": "markdown",
   "metadata": {
    "papermill": {
     "duration": 0.026637,
     "end_time": "2021-03-30T10:22:07.908063",
     "exception": false,
     "start_time": "2021-03-30T10:22:07.881426",
     "status": "completed"
    },
    "tags": []
   },
   "source": [
    "A function to filter data based on sequence lenght if needed"
   ]
  },
  {
   "cell_type": "code",
   "execution_count": 7,
   "metadata": {
    "execution": {
     "iopub.execute_input": "2021-03-30T10:22:07.962511Z",
     "iopub.status.busy": "2021-03-30T10:22:07.961757Z",
     "iopub.status.idle": "2021-03-30T10:22:07.964247Z",
     "shell.execute_reply": "2021-03-30T10:22:07.964656Z"
    },
    "papermill": {
     "duration": 0.03249,
     "end_time": "2021-03-30T10:22:07.964816",
     "exception": false,
     "start_time": "2021-03-30T10:22:07.932326",
     "status": "completed"
    },
    "tags": []
   },
   "outputs": [],
   "source": [
    "def filterPair(p):\n",
    "    #print(p[1])\n",
    "    try:\n",
    "        return len(p[0].split(' ')) < MAX_LENGTH and \\\n",
    "            len(p[1].split(' ')) < MAX_LENGTH\n",
    "    except:\n",
    "        print(\"Skipped this pair : \", p)\n",
    "\n",
    "\n",
    "def filterPairs(pairs):\n",
    "    return [pair for pair in pairs if filterPair(pair)]"
   ]
  },
  {
   "cell_type": "markdown",
   "metadata": {
    "papermill": {
     "duration": 0.024959,
     "end_time": "2021-03-30T10:22:08.014434",
     "exception": false,
     "start_time": "2021-03-30T10:22:07.989475",
     "status": "completed"
    },
    "tags": []
   },
   "source": [
    "A wrapper function to do the data preparation steps"
   ]
  },
  {
   "cell_type": "code",
   "execution_count": 8,
   "metadata": {
    "execution": {
     "iopub.execute_input": "2021-03-30T10:22:08.069195Z",
     "iopub.status.busy": "2021-03-30T10:22:08.068403Z",
     "iopub.status.idle": "2021-03-30T10:22:08.070912Z",
     "shell.execute_reply": "2021-03-30T10:22:08.071357Z"
    },
    "papermill": {
     "duration": 0.032966,
     "end_time": "2021-03-30T10:22:08.071498",
     "exception": false,
     "start_time": "2021-03-30T10:22:08.038532",
     "status": "completed"
    },
    "tags": []
   },
   "outputs": [],
   "source": [
    "def prepareData(lang1, lang2, reverse=False):\n",
    "    input_lang, output_lang, pairs = readLangs(lang1, lang2, reverse)\n",
    "    print(\"Read %s sentence pairs\" % len(pairs))\n",
    "    pairs = filterPairs(pairs)\n",
    "    print(\"Trimmed to %s sentence pairs\" % len(pairs))\n",
    "    print(\"Counting words...\")\n",
    "    for pair in pairs:\n",
    "        input_lang.addSentence(pair[0])\n",
    "        output_lang.addSentence(pair[1])\n",
    "    print(\"Counted words:\")\n",
    "    print(input_lang.name, input_lang.n_words)\n",
    "    print(output_lang.name, output_lang.n_words)\n",
    "    return input_lang, output_lang, pairs"
   ]
  },
  {
   "cell_type": "code",
   "execution_count": 9,
   "metadata": {
    "execution": {
     "iopub.execute_input": "2021-03-30T10:22:08.496523Z",
     "iopub.status.busy": "2021-03-30T10:22:08.495646Z",
     "iopub.status.idle": "2021-03-30T10:22:08.498154Z",
     "shell.execute_reply": "2021-03-30T10:22:08.498530Z"
    },
    "papermill": {
     "duration": 0.403166,
     "end_time": "2021-03-30T10:22:08.498688",
     "exception": false,
     "start_time": "2021-03-30T10:22:08.095522",
     "status": "completed"
    },
    "tags": []
   },
   "outputs": [],
   "source": [
    "device = torch.device(\"cuda\" if torch.cuda.is_available() else \"cpu\")"
   ]
  },
  {
   "cell_type": "code",
   "execution_count": 10,
   "metadata": {
    "execution": {
     "iopub.execute_input": "2021-03-30T10:22:08.552152Z",
     "iopub.status.busy": "2021-03-30T10:22:08.551372Z",
     "iopub.status.idle": "2021-03-30T10:22:08.589896Z",
     "shell.execute_reply": "2021-03-30T10:22:08.590491Z"
    },
    "papermill": {
     "duration": 0.06739,
     "end_time": "2021-03-30T10:22:08.590680",
     "exception": false,
     "start_time": "2021-03-30T10:22:08.523290",
     "status": "completed"
    },
    "tags": []
   },
   "outputs": [
    {
     "name": "stdout",
     "output_type": "stream",
     "text": [
      "Started Loading Data...\n",
      "Reading lines...\n",
      "len 2774\n",
      "Read 2774 sentence pairs\n",
      "Trimmed to 2772 sentence pairs\n",
      "Counting words...\n",
      "Counted words:\n",
      "eng 3453\n",
      "hin 3103\n",
      "Data Loaded....See Example below - \n",
      "[\"What's the matter?\", 'मुश्किल क्या है?']\n"
     ]
    }
   ],
   "source": [
    "input_lang, output_lang, pairs = prepareData('eng', 'hin', False)\n",
    "print(\"Data Loaded....See Example below - \")\n",
    "print(random.choice(pairs))"
   ]
  },
  {
   "cell_type": "code",
   "execution_count": 11,
   "metadata": {
    "execution": {
     "iopub.execute_input": "2021-03-30T10:22:08.643001Z",
     "iopub.status.busy": "2021-03-30T10:22:08.642232Z",
     "iopub.status.idle": "2021-03-30T10:22:08.645412Z",
     "shell.execute_reply": "2021-03-30T10:22:08.644949Z"
    },
    "papermill": {
     "duration": 0.030078,
     "end_time": "2021-03-30T10:22:08.645536",
     "exception": false,
     "start_time": "2021-03-30T10:22:08.615458",
     "status": "completed"
    },
    "tags": []
   },
   "outputs": [],
   "source": [
    "# print(\"Saving Dictionary\")\n",
    "# pickle.dump(input_lang, open('save/input.pkl', 'wb'))\n",
    "# pickle.dump(output_lang, open('save/output.pkl', 'wb'))"
   ]
  },
  {
   "cell_type": "markdown",
   "metadata": {
    "papermill": {
     "duration": 0.024134,
     "end_time": "2021-03-30T10:22:08.693906",
     "exception": false,
     "start_time": "2021-03-30T10:22:08.669772",
     "status": "completed"
    },
    "tags": []
   },
   "source": [
    "Utility functions to create tensors from sentences\n",
    "\n",
    "Tensor - A tensor is a generalization of vectors and matrices and is easily understood as a multidimensional array."
   ]
  },
  {
   "cell_type": "code",
   "execution_count": 12,
   "metadata": {
    "execution": {
     "iopub.execute_input": "2021-03-30T10:22:08.756228Z",
     "iopub.status.busy": "2021-03-30T10:22:08.755304Z",
     "iopub.status.idle": "2021-03-30T10:22:08.757928Z",
     "shell.execute_reply": "2021-03-30T10:22:08.758389Z"
    },
    "papermill": {
     "duration": 0.03829,
     "end_time": "2021-03-30T10:22:08.758538",
     "exception": false,
     "start_time": "2021-03-30T10:22:08.720248",
     "status": "completed"
    },
    "tags": []
   },
   "outputs": [],
   "source": [
    "def indexesFromSentence(lang, sentence):\n",
    "    words = sentence.split(' ')\n",
    "    indexes = []\n",
    "    for word in words:\n",
    "        if word not in lang.word2index.keys():\n",
    "            indexes.append(lang.word2index[\"UNK\"])\n",
    "        else:\n",
    "            indexes.append(lang.word2index[word])\n",
    "\n",
    "    return indexes\n",
    "    #return [lang.word2index[word] for word in words]\n",
    "\n",
    "\n",
    "def tensorFromSentence(lang, sentence):\n",
    "    indexes = indexesFromSentence(lang, sentence)\n",
    "    indexes.append(EOS_token)\n",
    "    return torch.tensor(indexes, dtype=torch.long, device=device).view(-1, 1)\n",
    "\n",
    "\n",
    "def tensorsFromPair(pair):\n",
    "    input_tensor = tensorFromSentence(input_lang, pair[0])\n",
    "    target_tensor = tensorFromSentence(output_lang, pair[1])\n",
    "    return (input_tensor, target_tensor)"
   ]
  },
  {
   "cell_type": "markdown",
   "metadata": {
    "papermill": {
     "duration": 0.025102,
     "end_time": "2021-03-30T10:22:08.809197",
     "exception": false,
     "start_time": "2021-03-30T10:22:08.784095",
     "status": "completed"
    },
    "tags": []
   },
   "source": [
    "# 3. Model Architecture (The Seq2Seq Model)\n",
    "\n",
    "A Sequence to Sequence network (also known as seq2seq network, or Encoder Decoder network) is a model consisting of two RNNs called the encoder and decoder. The encoder reads an input sequence and outputs a single vector, and the decoder reads that vector to produce an output sequence.\n",
    "\n",
    "![model](https://machinelearningmastery.com/wp-content/uploads/2017/10/Encoder-Decoder-Architecture-for-Neural-Machine-Translation.png)\n",
    "\n",
    "Unlike sequence prediction with a single RNN, where every input corresponds to an output, the seq2seq model frees us from sequence length and order, which makes it ideal for translation between two languages.\n",
    "\n",
    "With a seq2seq model the encoder creates a single vector which, in the ideal case, encodes the “meaning” of the input sequence into a single vector — a single point in some N dimensional space of sentences. Let's look into the Encoder -"
   ]
  },
  {
   "cell_type": "markdown",
   "metadata": {
    "papermill": {
     "duration": 0.024715,
     "end_time": "2021-03-30T10:22:08.860518",
     "exception": false,
     "start_time": "2021-03-30T10:22:08.835803",
     "status": "completed"
    },
    "tags": []
   },
   "source": [
    "## The Encoder\n",
    "\n",
    "The encoder of a seq2seq network is a RNN that outputs some value for every word from the input sentence. For every input word the encoder outputs a vector and a hidden state, and uses the hidden state for the next input word.\n",
    "\n",
    "![](https://github.com/pashupati98/kaggle-archives/blob/main/img/gru_encoder.PNG?raw=true)\n",
    "\n",
    "### Note - Refer this [Link](https://towardsdatascience.com/recurrent-neural-networks-d4642c9bc7ce) if you aren't familiar with RNN (Recurrent Neural Network), GRU, LSTM, Hidden State etc.\n",
    "\n",
    "Let's implement an Encoder. We'll use LSTM units."
   ]
  },
  {
   "cell_type": "code",
   "execution_count": 13,
   "metadata": {
    "execution": {
     "iopub.execute_input": "2021-03-30T10:22:08.940673Z",
     "iopub.status.busy": "2021-03-30T10:22:08.939833Z",
     "iopub.status.idle": "2021-03-30T10:22:08.949274Z",
     "shell.execute_reply": "2021-03-30T10:22:08.950469Z"
    },
    "papermill": {
     "duration": 0.063768,
     "end_time": "2021-03-30T10:22:08.950711",
     "exception": false,
     "start_time": "2021-03-30T10:22:08.886943",
     "status": "completed"
    },
    "tags": []
   },
   "outputs": [],
   "source": [
    "class EncoderRNN(nn.Module):\n",
    "    def __init__(self, input_size, hidden_size, layers=1):\n",
    "        super(EncoderRNN, self).__init__()\n",
    "        self.hidden_size = hidden_size\n",
    "        self.layers = layers\n",
    "        # -----------------------------------------------------------------\n",
    "        # self.weight_matrix = create_weight_matrix()\n",
    "        # self.embedding, num_embeddings, embedding_dim = create_emb_layer(self.weight_matrix, True)\n",
    "        self.embedding = nn.Embedding(input_size, hidden_size, layers)\n",
    "\n",
    "        # -------------------------------------------------------------------\n",
    "        # self.gru = nn.GRU(embedding_dim, hidden_size)\n",
    "        self.lstm = nn.LSTM(hidden_size, hidden_size, layers)\n",
    "\n",
    "    def forward(self, input, hidden):\n",
    "        embedded = self.embedding(input).view(1, 1, -1)\n",
    "        output = embedded\n",
    "        output, hidden = self.lstm(output, hidden)\n",
    "        return output, hidden\n",
    "\n",
    "    def initHidden(self):\n",
    "        return torch.zeros(self.layers, 1, self.hidden_size, device=device), torch.zeros(self.layers, 1, self.hidden_size, device=device)"
   ]
  },
  {
   "cell_type": "markdown",
   "metadata": {
    "papermill": {
     "duration": 0.044603,
     "end_time": "2021-03-30T10:22:09.051082",
     "exception": false,
     "start_time": "2021-03-30T10:22:09.006479",
     "status": "completed"
    },
    "tags": []
   },
   "source": [
    "## The Decoder\n",
    "\n",
    "The decoder is another RNN that takes the encoder output vector(s) and outputs a sequence of words to create the translation. In the simplest seq2seq decoder we use only last output of the encoder. This last output is sometimes called the context vector as it encodes context from the entire sequence. This context vector is used as the initial hidden state of the decoder.\n",
    "\n",
    "At every step of decoding, the decoder is given an input token and hidden state. The initial input token is the start-of-string <SOS> token, and the first hidden state is the context vector (the encoder’s last hidden state).\n",
    "    \n",
    "![decoder](https://github.com/pashupati98/kaggle-archives/blob/main/img/decoder.PNG?raw=true)\n",
    "    \n",
    "Let's implement the decoder using LSTM units."
   ]
  },
  {
   "cell_type": "code",
   "execution_count": 14,
   "metadata": {
    "execution": {
     "iopub.execute_input": "2021-03-30T10:22:09.148706Z",
     "iopub.status.busy": "2021-03-30T10:22:09.147849Z",
     "iopub.status.idle": "2021-03-30T10:22:09.151924Z",
     "shell.execute_reply": "2021-03-30T10:22:09.152885Z"
    },
    "papermill": {
     "duration": 0.055836,
     "end_time": "2021-03-30T10:22:09.153106",
     "exception": false,
     "start_time": "2021-03-30T10:22:09.097270",
     "status": "completed"
    },
    "tags": []
   },
   "outputs": [],
   "source": [
    "class DecoderRNN(nn.Module):\n",
    "    def __init__(self, hidden_size, output_size):\n",
    "        super(DecoderRNN, self).__init__()\n",
    "        self.hidden_size = hidden_size\n",
    "\n",
    "        self.embedding = nn.Embedding(output_size, hidden_size)\n",
    "        self.gru = nn.GRU(hidden_size, hidden_size)\n",
    "        self.out = nn.Linear(hidden_size, output_size)\n",
    "        self.softmax = nn.LogSoftmax(dim=1)\n",
    "\n",
    "    def forward(self, input, hidden):\n",
    "        output = self.embedding(input).view(1, 1, -1)\n",
    "        output = F.relu(output)\n",
    "        output, hidden = self.gru(output, hidden)\n",
    "        output = self.softmax(self.out(output[0]))\n",
    "        return output, hidden\n",
    "\n",
    "    def initHidden(self):\n",
    "        return torch.zeros(1, 1, self.hidden_size, device=device)"
   ]
  },
  {
   "cell_type": "markdown",
   "metadata": {
    "papermill": {
     "duration": 0.03828,
     "end_time": "2021-03-30T10:22:09.230268",
     "exception": false,
     "start_time": "2021-03-30T10:22:09.191988",
     "status": "completed"
    },
    "tags": []
   },
   "source": [
    "We know have both Encoder and Decoder with us. We can go ahead and train the model. But before that Let's look into the concepts of Attention.\n",
    "\n",
    "### Attention \n",
    "\n",
    "If only the context vector is passed betweeen the encoder and decoder, that single vector carries the burden of encoding the entire sentence.\n",
    "\n",
    "Attention allows the decoder network to “focus” on a different part of the encoder’s outputs for every step of the decoder’s own outputs. First we calculate a set of attention weights. These will be multiplied by the encoder output vectors to create a weighted combination. The result (called attn_applied in the code) should contain information about that specific part of the input sequence, and thus help the decoder choose the right output words.\n",
    "\n",
    "![attn](https://github.com/pashupati98/kaggle-archives/blob/main/img/attn.PNG?raw=true)\n",
    "\n",
    "Let's implement a decoder with attention. We'll use this decoder for our final model."
   ]
  },
  {
   "cell_type": "code",
   "execution_count": 15,
   "metadata": {
    "execution": {
     "iopub.execute_input": "2021-03-30T10:22:09.318169Z",
     "iopub.status.busy": "2021-03-30T10:22:09.317352Z",
     "iopub.status.idle": "2021-03-30T10:22:09.327231Z",
     "shell.execute_reply": "2021-03-30T10:22:09.327708Z"
    },
    "papermill": {
     "duration": 0.058437,
     "end_time": "2021-03-30T10:22:09.327888",
     "exception": false,
     "start_time": "2021-03-30T10:22:09.269451",
     "status": "completed"
    },
    "tags": []
   },
   "outputs": [],
   "source": [
    "class AttnDecoderRNN(nn.Module):\n",
    "    def __init__(self, hidden_size, output_size, dropout_p=0.1, max_length=MAX_LENGTH, layers=1):\n",
    "        super(AttnDecoderRNN, self).__init__()\n",
    "        self.hidden_size = hidden_size\n",
    "        self.output_size = output_size\n",
    "        self.dropout_p = dropout_p\n",
    "        self.max_length = max_length\n",
    "        self.layers = layers\n",
    "\n",
    "        self.embedding = nn.Embedding(self.output_size, self.hidden_size)\n",
    "        self.attn = nn.Linear(self.hidden_size * 2, self.max_length)\n",
    "        self.attn_combine = nn.Linear(self.hidden_size * 2, self.hidden_size)\n",
    "        self.dropout = nn.Dropout(self.dropout_p)\n",
    "        self.lstm = nn.LSTM(self.hidden_size, self.hidden_size, self.layers)\n",
    "        self.out = nn.Linear(self.hidden_size, self.output_size)\n",
    "\n",
    "    def forward(self, input, hidden, encoder_outputs):\n",
    "        embedded = self.embedding(input).view(1, 1, -1)\n",
    "        embedded = self.dropout(embedded)\n",
    "\n",
    "        #print(\"d0\", embedded.shape)\n",
    "        # print(\"d1\", embedded[0].shape)\n",
    "        # print(\"d2----\", hidden[0][0].shape)\n",
    "        #\n",
    "        # m = torch.cat((embedded[0], hidden[0][0]), 1)\n",
    "        # print(\"d3\", m.shape)\n",
    "        # r = self.attn(m)\n",
    "\n",
    "        attn_weights = F.softmax(\n",
    "            self.attn(torch.cat((embedded[0], hidden[0][0]), 1)), dim=1)\n",
    "\n",
    "        # print(\"d4\", attn_weights.shape)\n",
    "        # print(\"d5\", encoder_outputs.unsqueeze(0).shape)\n",
    "\n",
    "        attn_applied = torch.bmm(attn_weights.unsqueeze(0),\n",
    "                                 encoder_outputs.unsqueeze(0))\n",
    "\n",
    "        output = torch.cat((embedded[0], attn_applied[0]), 1)\n",
    "        output = self.attn_combine(output).unsqueeze(0)\n",
    "\n",
    "        output = F.relu(output)\n",
    "\n",
    "        output, hidden = self.lstm(output, hidden)\n",
    "\n",
    "        output = F.log_softmax(self.out(output[0]), dim=1)\n",
    "        return output, hidden, attn_weights\n",
    "\n",
    "    def initHidden(self):\n",
    "        return torch.zeros(self.layers, 1, self.hidden_size, device=device), torch.zeros(self.layers, 1, self.hidden_size, device=device)"
   ]
  },
  {
   "cell_type": "markdown",
   "metadata": {
    "papermill": {
     "duration": 0.039931,
     "end_time": "2021-03-30T10:22:09.407108",
     "exception": false,
     "start_time": "2021-03-30T10:22:09.367177",
     "status": "completed"
    },
    "tags": []
   },
   "source": [
    "### Training utility\n",
    "\n",
    "To train we run the input sentence through the encoder, and keep track of every output and the latest hidden state. Then the decoder is given the <SOS> token as its first input, and the last hidden state of the encoder as its first hidden state."
   ]
  },
  {
   "cell_type": "code",
   "execution_count": 16,
   "metadata": {
    "execution": {
     "iopub.execute_input": "2021-03-30T10:22:09.500084Z",
     "iopub.status.busy": "2021-03-30T10:22:09.499270Z",
     "iopub.status.idle": "2021-03-30T10:22:09.506240Z",
     "shell.execute_reply": "2021-03-30T10:22:09.506852Z"
    },
    "papermill": {
     "duration": 0.056932,
     "end_time": "2021-03-30T10:22:09.507053",
     "exception": false,
     "start_time": "2021-03-30T10:22:09.450121",
     "status": "completed"
    },
    "tags": []
   },
   "outputs": [],
   "source": [
    "def train(input_tensor, target_tensor, encoder, decoder, encoder_optimizer, decoder_optimizer, criterion, max_length=MAX_LENGTH):\n",
    "    encoder_hidden = encoder.initHidden()\n",
    "\n",
    "    encoder_optimizer.zero_grad()\n",
    "    decoder_optimizer.zero_grad()\n",
    "\n",
    "    input_length = input_tensor.size(0)\n",
    "    target_length = target_tensor.size(0)\n",
    "\n",
    "    encoder_outputs = torch.zeros(max_length, encoder.hidden_size, device=device)\n",
    "\n",
    "    loss = 0\n",
    "\n",
    "    for ei in range(input_length):\n",
    "        encoder_output, encoder_hidden = encoder(\n",
    "            input_tensor[ei], encoder_hidden)\n",
    "        encoder_outputs[ei] = encoder_output[0, 0]\n",
    "\n",
    "    decoder_input = torch.tensor([[SOS_token]], device=device)\n",
    "\n",
    "    decoder_hidden = encoder_hidden\n",
    "\n",
    "    use_teacher_forcing = True if random.random() < teacher_forcing_ratio else False\n",
    "\n",
    "    if use_teacher_forcing:\n",
    "        # Teacher forcing: Feed the target as the next input\n",
    "        for di in range(target_length):\n",
    "            decoder_output, decoder_hidden, decoder_attention = decoder(\n",
    "                decoder_input, decoder_hidden, encoder_outputs)\n",
    "            loss += criterion(decoder_output, target_tensor[di])\n",
    "            decoder_input = target_tensor[di]  # Teacher forcing\n",
    "\n",
    "    else:\n",
    "        # Without teacher forcing: use its own predictions as the next input\n",
    "        for di in range(target_length):\n",
    "            decoder_output, decoder_hidden, decoder_attention = decoder(\n",
    "                decoder_input, decoder_hidden, encoder_outputs)\n",
    "            topv, topi = decoder_output.topk(1)\n",
    "            decoder_input = topi.squeeze().detach()  # detach from history as input\n",
    "\n",
    "            loss += criterion(decoder_output, target_tensor[di])\n",
    "            if decoder_input.item() == EOS_token:\n",
    "                break\n",
    "\n",
    "    loss.backward()\n",
    "\n",
    "    encoder_optimizer.step()\n",
    "    decoder_optimizer.step()\n",
    "\n",
    "    return loss.item() / target_length"
   ]
  },
  {
   "cell_type": "markdown",
   "metadata": {
    "papermill": {
     "duration": 0.034097,
     "end_time": "2021-03-30T10:22:09.580614",
     "exception": false,
     "start_time": "2021-03-30T10:22:09.546517",
     "status": "completed"
    },
    "tags": []
   },
   "source": [
    "The whole training process will go like this:\n",
    "\n",
    "- Start a timer\n",
    "- Initialize optimizers and criterion\n",
    "- Create set of training pairs\n",
    "- Start empty losses array for plotting\n",
    "\n",
    "Then we call train many times and occasionally print the progress (% of examples, time so far, estimated time) and average loss."
   ]
  },
  {
   "cell_type": "code",
   "execution_count": 17,
   "metadata": {
    "execution": {
     "iopub.execute_input": "2021-03-30T10:22:09.640641Z",
     "iopub.status.busy": "2021-03-30T10:22:09.639914Z",
     "iopub.status.idle": "2021-03-30T10:22:09.643381Z",
     "shell.execute_reply": "2021-03-30T10:22:09.642790Z"
    },
    "papermill": {
     "duration": 0.037142,
     "end_time": "2021-03-30T10:22:09.643500",
     "exception": false,
     "start_time": "2021-03-30T10:22:09.606358",
     "status": "completed"
    },
    "tags": []
   },
   "outputs": [],
   "source": [
    "def trainIters(encoder, decoder, n_iters, print_every=1000, plot_every=100, learning_rate=0.01):\n",
    "    start = time.time()\n",
    "    plot_losses = []\n",
    "    print_loss_total = 0  # Reset every print_every\n",
    "    plot_loss_total = 0  # Reset every plot_every\n",
    "\n",
    "    encoder_optimizer = optim.SGD(encoder.parameters(), lr=learning_rate)\n",
    "    decoder_optimizer = optim.SGD(decoder.parameters(), lr=learning_rate)\n",
    "    training_pairs = [tensorsFromPair(random.choice(pairs))\n",
    "                      for i in range(n_iters)]\n",
    "    criterion = nn.NLLLoss()\n",
    "\n",
    "    for iter in range(1, n_iters + 1):\n",
    "        training_pair = training_pairs[iter - 1]\n",
    "        input_tensor = training_pair[0]\n",
    "        target_tensor = training_pair[1]\n",
    "\n",
    "        loss = train(input_tensor, target_tensor, encoder,\n",
    "                     decoder, encoder_optimizer, decoder_optimizer, criterion)\n",
    "        print_loss_total += loss\n",
    "        plot_loss_total += loss\n",
    "\n",
    "        if iter % print_every == 0:\n",
    "            print_loss_avg = print_loss_total / print_every\n",
    "            print_loss_total = 0\n",
    "            print('%s (%d %d%%) %.4f' % (timeSince(start, iter / n_iters),\n",
    "                                         iter, iter / n_iters * 100, print_loss_avg))\n",
    "\n",
    "        if iter % plot_every == 0:\n",
    "            plot_loss_avg = plot_loss_total / plot_every\n",
    "            plot_losses.append(plot_loss_avg)\n",
    "            plot_loss_total = 0\n",
    "\n",
    "    #print(plot_losses)\n",
    "    showPlot(plot_losses)\n",
    "    #pickle.dump(plot_losses, open('save/gru1n.pkl', 'wb'))"
   ]
  },
  {
   "cell_type": "markdown",
   "metadata": {
    "papermill": {
     "duration": 0.025237,
     "end_time": "2021-03-30T10:22:09.693692",
     "exception": false,
     "start_time": "2021-03-30T10:22:09.668455",
     "status": "completed"
    },
    "tags": []
   },
   "source": [
    "### Evaluation Utility\n",
    "\n",
    "Evaluation is mostly the same as training, but there are no targets so we simply feed the decoder’s predictions back to itself for each step. Every time it predicts a word we add it to the output string, and if it predicts the EOS token we stop there. We also store the decoder’s attention outputs for display later."
   ]
  },
  {
   "cell_type": "code",
   "execution_count": 18,
   "metadata": {
    "execution": {
     "iopub.execute_input": "2021-03-30T10:22:09.755474Z",
     "iopub.status.busy": "2021-03-30T10:22:09.754579Z",
     "iopub.status.idle": "2021-03-30T10:22:09.757342Z",
     "shell.execute_reply": "2021-03-30T10:22:09.756825Z"
    },
    "papermill": {
     "duration": 0.038848,
     "end_time": "2021-03-30T10:22:09.757451",
     "exception": false,
     "start_time": "2021-03-30T10:22:09.718603",
     "status": "completed"
    },
    "tags": []
   },
   "outputs": [],
   "source": [
    "def evaluate(encoder, decoder, sentence, max_length=MAX_LENGTH):\n",
    "    with torch.no_grad():\n",
    "        input_tensor = tensorFromSentence(input_lang, sentence)\n",
    "        input_length = input_tensor.size()[0]\n",
    "        encoder_hidden = encoder.initHidden()\n",
    "\n",
    "        encoder_outputs = torch.zeros(max_length, encoder.hidden_size, device=device)\n",
    "\n",
    "        for ei in range(input_length):\n",
    "            encoder_output, encoder_hidden = encoder(input_tensor[ei],\n",
    "                                                     encoder_hidden)\n",
    "            encoder_outputs[ei] += encoder_output[0, 0]\n",
    "\n",
    "        decoder_input = torch.tensor([[SOS_token]], device=device)  # SOS\n",
    "\n",
    "        decoder_hidden = encoder_hidden\n",
    "\n",
    "        decoded_words = []\n",
    "        decoder_attentions = torch.zeros(max_length, max_length)\n",
    "\n",
    "        for di in range(max_length):\n",
    "            decoder_output, decoder_hidden, decoder_attention = decoder(\n",
    "                decoder_input, decoder_hidden, encoder_outputs)\n",
    "            decoder_attentions[di] = decoder_attention.data\n",
    "            topv, topi = decoder_output.data.topk(1)\n",
    "            if topi.item() == EOS_token:\n",
    "                decoded_words.append('<EOS>')\n",
    "                break\n",
    "            else:\n",
    "                decoded_words.append(output_lang.index2word[topi.item()])\n",
    "\n",
    "            decoder_input = topi.squeeze().detach()\n",
    "\n",
    "        return decoded_words, decoder_attentions[:di + 1]\n",
    "\n",
    "\n",
    "def evaluateRandomly(encoder, decoder, n=10):\n",
    "    for i in range(n):\n",
    "        pair = random.choice(pairs)\n",
    "        print('>', pair[0])\n",
    "        print('=', pair[1])\n",
    "        output_words, attentions = evaluate(encoder, decoder, pair[0])\n",
    "        output_sentence = ' '.join(output_words)\n",
    "        print('<', output_sentence)\n",
    "        # Bleu\n",
    "        ref = [pair[1].split()]\n",
    "        bl = bleu.sentence_bleu(ref, output_sentence.split())\n",
    "        print(\"BLEU Score\", bl)\n",
    "        print('')"
   ]
  },
  {
   "cell_type": "markdown",
   "metadata": {
    "papermill": {
     "duration": 0.025992,
     "end_time": "2021-03-30T10:22:09.809312",
     "exception": false,
     "start_time": "2021-03-30T10:22:09.783320",
     "status": "completed"
    },
    "tags": []
   },
   "source": [
    "### Visualization Utility\n",
    "\n",
    "Plotting is done with matplotlib, using the array of loss values plot_losses saved while training.\n",
    "\n",
    "We can also plot the attention because it has highly interpretable outputs. It is used to weight specific encoder outputs of the input sequence, we can imagine looking where the network is focused most at each time step."
   ]
  },
  {
   "cell_type": "code",
   "execution_count": 19,
   "metadata": {
    "execution": {
     "iopub.execute_input": "2021-03-30T10:22:09.873529Z",
     "iopub.status.busy": "2021-03-30T10:22:09.872615Z",
     "iopub.status.idle": "2021-03-30T10:22:09.874844Z",
     "shell.execute_reply": "2021-03-30T10:22:09.875257Z"
    },
    "papermill": {
     "duration": 0.038674,
     "end_time": "2021-03-30T10:22:09.875390",
     "exception": false,
     "start_time": "2021-03-30T10:22:09.836716",
     "status": "completed"
    },
    "tags": []
   },
   "outputs": [],
   "source": [
    "def showPlot(points):\n",
    "    #print(\"function called\")\n",
    "    plt.figure()\n",
    "    fig, ax = plt.subplots()\n",
    "    # this locator puts ticks at regular intervals\n",
    "    loc = ticker.MultipleLocator(base=0.2)\n",
    "    ax.yaxis.set_major_locator(loc)\n",
    "    plt.plot(points)\n",
    "    plt.xlabel(\"steps\")\n",
    "    plt.ylabel(\"loss\")\n",
    "    plt.show()\n",
    "    fig.savefig('loss.png')\n",
    "    \n",
    "def showAttention(input_sentence, output_words, attentions, attr):\n",
    "    # Set up figure with colorbar\n",
    "    fig = plt.figure()\n",
    "    ax = fig.add_subplot(111)\n",
    "    \n",
    "    i = attentions.shape[0]\n",
    "    attn = [a[:i+2].tolist() for a in attentions]\n",
    "\n",
    "    \n",
    "    cax = ax.matshow(attn, cmap='bone')\n",
    "    fig.colorbar(cax)\n",
    "\n",
    "    # Set up axes\n",
    "    ax.set_xticklabels([''] + input_sentence.split(' ') +\n",
    "                       ['<EOS>'], rotation=90)\n",
    "    \n",
    "    hindi_font = FontProperties(fname = '../input/nirmala-font/Nirmala.ttf')\n",
    "    ax.set_yticklabels([''] + output_words, fontproperties=hindi_font)\n",
    "\n",
    "    # Show label at every tick\n",
    "    ax.xaxis.set_major_locator(ticker.MultipleLocator(1))\n",
    "    ax.yaxis.set_major_locator(ticker.MultipleLocator(1))\n",
    "    fig.savefig(\"attention_{}.png\".format(attr))\n",
    "    plt.show()\n",
    "\n",
    "\n",
    "def evaluateAndShowAttention(encoder1, attn_decoder1, input_sentence, attr):\n",
    "    output_words, attentions = evaluate(\n",
    "        encoder1, attn_decoder1, input_sentence)\n",
    "    print('input =', input_sentence)\n",
    "    print('output =', ' '.join(output_words))\n",
    "    showAttention(input_sentence, output_words, attentions, attr)"
   ]
  },
  {
   "cell_type": "markdown",
   "metadata": {
    "papermill": {
     "duration": 0.025308,
     "end_time": "2021-03-30T10:22:09.925834",
     "exception": false,
     "start_time": "2021-03-30T10:22:09.900526",
     "status": "completed"
    },
    "tags": []
   },
   "source": [
    "Some helper functions to print time elapsed and estimated time remaining given the current time and progress %."
   ]
  },
  {
   "cell_type": "code",
   "execution_count": 20,
   "metadata": {
    "execution": {
     "iopub.execute_input": "2021-03-30T10:22:09.984378Z",
     "iopub.status.busy": "2021-03-30T10:22:09.983628Z",
     "iopub.status.idle": "2021-03-30T10:22:09.986089Z",
     "shell.execute_reply": "2021-03-30T10:22:09.986569Z"
    },
    "papermill": {
     "duration": 0.03511,
     "end_time": "2021-03-30T10:22:09.986700",
     "exception": false,
     "start_time": "2021-03-30T10:22:09.951590",
     "status": "completed"
    },
    "tags": []
   },
   "outputs": [],
   "source": [
    "def count_parameters(model):\n",
    "    table = PrettyTable([\"Modules\", \"Parameters\"])\n",
    "    total_params = 0\n",
    "    for name, parameter in model.named_parameters():\n",
    "        if not parameter.requires_grad: continue\n",
    "        param = parameter.numel()\n",
    "        table.add_row([name, param])\n",
    "        total_params+=param\n",
    "    print(table)\n",
    "    print(f\"Total Trainable Params: {total_params}\")\n",
    "    return total_params\n",
    "\n",
    "def asMinutes(s):\n",
    "    m = math.floor(s / 60)\n",
    "    s -= m * 60\n",
    "    return '%dm %ds' % (m, s)\n",
    "\n",
    "\n",
    "def timeSince(since, percent):\n",
    "    now = time.time()\n",
    "    s = now - since\n",
    "    es = s / (percent)\n",
    "    rs = es - s\n",
    "    return '%s (- %s)' % (asMinutes(s), asMinutes(rs))"
   ]
  },
  {
   "cell_type": "markdown",
   "metadata": {
    "papermill": {
     "duration": 0.024978,
     "end_time": "2021-03-30T10:22:10.036953",
     "exception": false,
     "start_time": "2021-03-30T10:22:10.011975",
     "status": "completed"
    },
    "tags": []
   },
   "source": [
    "### Finally, a wrapper function to run the experiment."
   ]
  },
  {
   "cell_type": "code",
   "execution_count": 21,
   "metadata": {
    "execution": {
     "iopub.execute_input": "2021-03-30T10:22:10.094309Z",
     "iopub.status.busy": "2021-03-30T10:22:10.093561Z",
     "iopub.status.idle": "2021-03-30T10:22:10.096071Z",
     "shell.execute_reply": "2021-03-30T10:22:10.096475Z"
    },
    "papermill": {
     "duration": 0.03413,
     "end_time": "2021-03-30T10:22:10.096617",
     "exception": false,
     "start_time": "2021-03-30T10:22:10.062487",
     "status": "completed"
    },
    "tags": []
   },
   "outputs": [],
   "source": [
    "def run_training():\n",
    "    print(\"========== Building Encoder... ==========\\n\")\n",
    "    encoder1 = EncoderRNN(input_lang.n_words, hidden_size, layers=1).to(device)\n",
    "    print(encoder1)\n",
    "    print('\\n')\n",
    "    eparam = count_parameters(encoder1)\n",
    "    print('\\n')\n",
    "    print(\"========== Building Decoder... ==========\\n\")\n",
    "    attn_decoder1 = AttnDecoderRNN(hidden_size, output_lang.n_words, dropout_p=0.1, layers=1).to(device)\n",
    "    print(attn_decoder1)\n",
    "    print('\\n')\n",
    "    dparam = count_parameters(attn_decoder1)\n",
    "    print(\"\\nTotal parameters in encoder + decoder : \", eparam+dparam)\n",
    "    print('\\n')\n",
    "    print(\"========== Starting Training... ==========\\n\")\n",
    "    trainIters(encoder1, attn_decoder1, 50000, print_every=1000)\n",
    "    print(\"========== Finished Training... ==========\\n\")\n",
    "    # Evaluation and Visualization\n",
    "    \n",
    "    return encoder1, attn_decoder1"
   ]
  },
  {
   "cell_type": "code",
   "execution_count": 22,
   "metadata": {
    "execution": {
     "iopub.execute_input": "2021-03-30T10:22:10.153051Z",
     "iopub.status.busy": "2021-03-30T10:22:10.152508Z",
     "iopub.status.idle": "2021-03-30T10:41:18.064448Z",
     "shell.execute_reply": "2021-03-30T10:41:18.064944Z"
    },
    "papermill": {
     "duration": 1147.942322,
     "end_time": "2021-03-30T10:41:18.065122",
     "exception": false,
     "start_time": "2021-03-30T10:22:10.122800",
     "status": "completed"
    },
    "tags": []
   },
   "outputs": [
    {
     "name": "stdout",
     "output_type": "stream",
     "text": [
      "========== Building Encoder... ==========\n",
      "\n",
      "EncoderRNN(\n",
      "  (embedding): Embedding(3453, 1000, padding_idx=1)\n",
      "  (lstm): LSTM(1000, 1000)\n",
      ")\n",
      "\n",
      "\n",
      "+-------------------+------------+\n",
      "|      Modules      | Parameters |\n",
      "+-------------------+------------+\n",
      "|  embedding.weight |  3453000   |\n",
      "| lstm.weight_ih_l0 |  4000000   |\n",
      "| lstm.weight_hh_l0 |  4000000   |\n",
      "|  lstm.bias_ih_l0  |    4000    |\n",
      "|  lstm.bias_hh_l0  |    4000    |\n",
      "+-------------------+------------+\n",
      "Total Trainable Params: 11461000\n",
      "\n",
      "\n",
      "========== Building Decoder... ==========\n",
      "\n",
      "AttnDecoderRNN(\n",
      "  (embedding): Embedding(3103, 1000)\n",
      "  (attn): Linear(in_features=2000, out_features=20, bias=True)\n",
      "  (attn_combine): Linear(in_features=2000, out_features=1000, bias=True)\n",
      "  (dropout): Dropout(p=0.1, inplace=False)\n",
      "  (lstm): LSTM(1000, 1000)\n",
      "  (out): Linear(in_features=1000, out_features=3103, bias=True)\n",
      ")\n",
      "\n",
      "\n",
      "+---------------------+------------+\n",
      "|       Modules       | Parameters |\n",
      "+---------------------+------------+\n",
      "|   embedding.weight  |  3103000   |\n",
      "|     attn.weight     |   40000    |\n",
      "|      attn.bias      |     20     |\n",
      "| attn_combine.weight |  2000000   |\n",
      "|  attn_combine.bias  |    1000    |\n",
      "|  lstm.weight_ih_l0  |  4000000   |\n",
      "|  lstm.weight_hh_l0  |  4000000   |\n",
      "|   lstm.bias_ih_l0   |    4000    |\n",
      "|   lstm.bias_hh_l0   |    4000    |\n",
      "|      out.weight     |  3103000   |\n",
      "|       out.bias      |    3103    |\n",
      "+---------------------+------------+\n",
      "Total Trainable Params: 16258123\n",
      "\n",
      "Total parameters in encoder + decoder :  27719123\n",
      "\n",
      "\n",
      "========== Starting Training... ==========\n",
      "\n",
      "0m 24s (- 19m 41s) (1000 2%) 4.8538\n",
      "0m 45s (- 18m 23s) (2000 4%) 5.0614\n",
      "1m 6s (- 17m 29s) (3000 6%) 4.8087\n",
      "1m 28s (- 16m 52s) (4000 8%) 4.6860\n",
      "1m 49s (- 16m 23s) (5000 10%) 4.4913\n",
      "2m 10s (- 15m 57s) (6000 12%) 4.2796\n",
      "2m 31s (- 15m 33s) (7000 14%) 4.1119\n",
      "2m 53s (- 15m 11s) (8000 16%) 3.9567\n",
      "3m 15s (- 14m 48s) (9000 18%) 3.7589\n",
      "3m 37s (- 14m 29s) (10000 20%) 3.4909\n",
      "4m 0s (- 14m 11s) (11000 22%) 3.3891\n",
      "4m 22s (- 13m 52s) (12000 24%) 3.0191\n",
      "4m 45s (- 13m 32s) (13000 26%) 2.8630\n",
      "5m 8s (- 13m 12s) (14000 28%) 2.5776\n",
      "5m 31s (- 12m 53s) (15000 30%) 2.4438\n",
      "5m 53s (- 12m 31s) (16000 32%) 2.0832\n",
      "6m 16s (- 12m 10s) (17000 34%) 1.9759\n",
      "6m 39s (- 11m 50s) (18000 36%) 1.8356\n",
      "7m 3s (- 11m 30s) (19000 38%) 1.6514\n",
      "7m 26s (- 11m 9s) (20000 40%) 1.5568\n",
      "7m 48s (- 10m 47s) (21000 42%) 1.3989\n",
      "8m 11s (- 10m 25s) (22000 44%) 1.2657\n",
      "8m 34s (- 10m 3s) (23000 46%) 1.1344\n",
      "8m 57s (- 9m 42s) (24000 48%) 1.0610\n",
      "9m 20s (- 9m 20s) (25000 50%) 0.9982\n",
      "9m 43s (- 8m 58s) (26000 52%) 0.9500\n",
      "10m 6s (- 8m 36s) (27000 54%) 0.8169\n",
      "10m 29s (- 8m 14s) (28000 56%) 0.7696\n",
      "10m 52s (- 7m 52s) (29000 57%) 0.6928\n",
      "11m 16s (- 7m 30s) (30000 60%) 0.6887\n",
      "11m 39s (- 7m 8s) (31000 62%) 0.5456\n",
      "12m 3s (- 6m 46s) (32000 64%) 0.5155\n",
      "12m 26s (- 6m 24s) (33000 66%) 0.4771\n",
      "12m 49s (- 6m 2s) (34000 68%) 0.4771\n",
      "13m 12s (- 5m 39s) (35000 70%) 0.4005\n",
      "13m 35s (- 5m 17s) (36000 72%) 0.3693\n",
      "13m 59s (- 4m 54s) (37000 74%) 0.3183\n",
      "14m 22s (- 4m 32s) (38000 76%) 0.3567\n",
      "14m 46s (- 4m 10s) (39000 78%) 0.2841\n",
      "15m 9s (- 3m 47s) (40000 80%) 0.2604\n",
      "15m 32s (- 3m 24s) (41000 82%) 0.2146\n",
      "15m 56s (- 3m 2s) (42000 84%) 0.2291\n",
      "16m 19s (- 2m 39s) (43000 86%) 0.2177\n",
      "16m 42s (- 2m 16s) (44000 88%) 0.2544\n",
      "17m 5s (- 1m 53s) (45000 90%) 0.1814\n",
      "17m 29s (- 1m 31s) (46000 92%) 0.1832\n",
      "17m 52s (- 1m 8s) (47000 94%) 0.1908\n",
      "18m 15s (- 0m 45s) (48000 96%) 0.1719\n",
      "18m 38s (- 0m 22s) (49000 98%) 0.1860\n",
      "19m 2s (- 0m 0s) (50000 100%) 0.1728\n"
     ]
    },
    {
     "data": {
      "text/plain": [
       "<Figure size 432x288 with 0 Axes>"
      ]
     },
     "metadata": {},
     "output_type": "display_data"
    },
    {
     "data": {
      "image/png": "[encoded data removed]",
      "text/plain": [
       "<Figure size 432x288 with 1 Axes>"
      ]
     },
     "metadata": {
      "needs_background": "light"
     },
     "output_type": "display_data"
    },
    {
     "name": "stdout",
     "output_type": "stream",
     "text": [
      "========== Finished Training... ==========\n",
      "\n"
     ]
    }
   ],
   "source": [
    "encoder1, attn_decoder1 = run_training()"
   ]
  },
  {
   "cell_type": "markdown",
   "metadata": {
    "papermill": {
     "duration": 0.039102,
     "end_time": "2021-03-30T10:41:18.143756",
     "exception": false,
     "start_time": "2021-03-30T10:41:18.104654",
     "status": "completed"
    },
    "tags": []
   },
   "source": [
    "Let's check our machine translation system on some examples"
   ]
  },
  {
   "cell_type": "code",
   "execution_count": 23,
   "metadata": {
    "execution": {
     "iopub.execute_input": "2021-03-30T10:41:18.227017Z",
     "iopub.status.busy": "2021-03-30T10:41:18.226439Z",
     "iopub.status.idle": "2021-03-30T10:41:18.332138Z",
     "shell.execute_reply": "2021-03-30T10:41:18.331427Z"
    },
    "papermill": {
     "duration": 0.149639,
     "end_time": "2021-03-30T10:41:18.332266",
     "exception": false,
     "start_time": "2021-03-30T10:41:18.182627",
     "status": "completed"
    },
    "tags": []
   },
   "outputs": [
    {
     "name": "stdout",
     "output_type": "stream",
     "text": [
      "> They are in favor of the reform of the tax laws.\n",
      "= वे टैक्स सुधार क़ानून के पक्ष में हैं।\n",
      "< वे टैक्स सुधार क़ानून के पक्ष में हैं। <EOS>\n",
      "BLEU Score 0.8633400213704505\n",
      "\n",
      "> Open the door.\n",
      "= दरवाज़ा खोलो।\n",
      "< दरवाज़ा खोलिए। <EOS>\n",
      "BLEU Score 0.7598356856515925\n",
      "\n",
      "> I don't care what they say.\n",
      "= वे जो मर्ज़ी कहें मुझे उससे कोई फ़र्क नहीं पड़ता।\n",
      "< वे जो मर्ज़ी कहें मुझे उससे कोई फ़र्क नहीं पड़ता। <EOS>\n",
      "BLEU Score 0.8931539818068694\n",
      "\n",
      "> Don't you think the air conditioner is turned up too high in here?\n",
      "= तम्हें नहीं लगता कि एसी कुछ ज़्यादा ही तेज़ चल रहा है?\n",
      "< तम्हें नहीं लगता कि एसी कुछ ज़्यादा ही तेज़ चल रहा है? <EOS>\n",
      "BLEU Score 0.912167909070388\n",
      "\n",
      "> I think that he is right.\n",
      "= मुझे लगता है वह सही है।\n",
      "< मुझे लगता है वह सही है। <EOS>\n",
      "BLEU Score 0.8091067115702212\n",
      "\n",
      "> He defeated his opponent in the election.\n",
      "= उसने चुनाव में अपने विरोधी को हरा दिया।\n",
      "< उसने चुनाव में अपने विरोधी को हरा दिया। <EOS>\n",
      "BLEU Score 0.8633400213704505\n",
      "\n",
      "> He rescued the child from the fire.\n",
      "= उसने बच्चे को आग से बचाया।\n",
      "< उसने बच्चे को आग से बचाया। <EOS>\n",
      "BLEU Score 0.8091067115702212\n",
      "\n",
      "> Is he reading a book?\n",
      "= वह किताब पढ़ रहा है क्या?\n",
      "< वह किताब पढ़ रहा है क्या? <EOS>\n",
      "BLEU Score 0.8091067115702212\n",
      "\n",
      "> Happy New Year!\n",
      "= नए साल की बधाईयाँ।\n",
      "< नए साल की बधाईयाँ। <EOS>\n",
      "BLEU Score 0.668740304976422\n",
      "\n",
      "> Do you believe me?\n",
      "= क्या तुम मुझपर यकीन करते हो?\n",
      "< क्या तुम मेरा यकीन करते हो? <EOS>\n",
      "BLEU Score 0.5169731539571706\n",
      "\n"
     ]
    }
   ],
   "source": [
    "evaluateRandomly(encoder1, attn_decoder1)"
   ]
  },
  {
   "cell_type": "markdown",
   "metadata": {
    "papermill": {
     "duration": 0.040837,
     "end_time": "2021-03-30T10:41:18.414634",
     "exception": false,
     "start_time": "2021-03-30T10:41:18.373797",
     "status": "completed"
    },
    "tags": []
   },
   "source": [
    "The above example were from the data itself. so it perfromed really well. Let's check on some out of the data examples."
   ]
  },
  {
   "cell_type": "code",
   "execution_count": 24,
   "metadata": {
    "execution": {
     "iopub.execute_input": "2021-03-30T10:41:18.500569Z",
     "iopub.status.busy": "2021-03-30T10:41:18.499951Z",
     "iopub.status.idle": "2021-03-30T10:41:18.511071Z",
     "shell.execute_reply": "2021-03-30T10:41:18.511458Z"
    },
    "papermill": {
     "duration": 0.055561,
     "end_time": "2021-03-30T10:41:18.511603",
     "exception": false,
     "start_time": "2021-03-30T10:41:18.456042",
     "status": "completed"
    },
    "tags": []
   },
   "outputs": [
    {
     "name": "stdout",
     "output_type": "stream",
     "text": [
      "वह अफ़वाह घर है। <EOS>\n"
     ]
    }
   ],
   "source": [
    "output_words, attentions = evaluate(\n",
    "        encoder1, attn_decoder1, \"He is going home\")\n",
    "print(\" \".join(output_words))"
   ]
  },
  {
   "cell_type": "code",
   "execution_count": 25,
   "metadata": {
    "execution": {
     "iopub.execute_input": "2021-03-30T10:41:18.599441Z",
     "iopub.status.busy": "2021-03-30T10:41:18.598150Z",
     "iopub.status.idle": "2021-03-30T10:41:18.985053Z",
     "shell.execute_reply": "2021-03-30T10:41:18.985521Z"
    },
    "papermill": {
     "duration": 0.432289,
     "end_time": "2021-03-30T10:41:18.985682",
     "exception": false,
     "start_time": "2021-03-30T10:41:18.553393",
     "status": "completed"
    },
    "tags": []
   },
   "outputs": [
    {
     "name": "stdout",
     "output_type": "stream",
     "text": [
      "input = I can drive a car\n",
      "output = मैं गाड़ी चला सकता हूँ। <EOS>\n"
     ]
    },
    {
     "data": {
      "image/png": "[encoded data removed]",
      "text/plain": [
       "<Figure size 432x288 with 2 Axes>"
      ]
     },
     "metadata": {
      "needs_background": "light"
     },
     "output_type": "display_data"
    }
   ],
   "source": [
    "evaluateAndShowAttention(encoder1, attn_decoder1, \"I can drive a car\", \"sent-1\")"
   ]
  },
  {
   "cell_type": "code",
   "execution_count": 26,
   "metadata": {
    "execution": {
     "iopub.execute_input": "2021-03-30T10:41:19.100700Z",
     "iopub.status.busy": "2021-03-30T10:41:19.099747Z",
     "iopub.status.idle": "2021-03-30T10:41:19.439640Z",
     "shell.execute_reply": "2021-03-30T10:41:19.440769Z"
    },
    "papermill": {
     "duration": 0.389079,
     "end_time": "2021-03-30T10:41:19.441048",
     "exception": false,
     "start_time": "2021-03-30T10:41:19.051969",
     "status": "completed"
    },
    "tags": []
   },
   "outputs": [
    {
     "name": "stdout",
     "output_type": "stream",
     "text": [
      "input = She is very beautiful\n",
      "output = वह बहुत सुंदर है। <EOS>\n"
     ]
    },
    {
     "data": {
      "image/png": "[encoded data removed]",
      "text/plain": [
       "<Figure size 432x288 with 2 Axes>"
      ]
     },
     "metadata": {
      "needs_background": "light"
     },
     "output_type": "display_data"
    }
   ],
   "source": [
    "evaluateAndShowAttention(encoder1, attn_decoder1, \"She is very beautiful\", \"sent-2\")"
   ]
  },
  {
   "cell_type": "code",
   "execution_count": 27,
   "metadata": {
    "execution": {
     "iopub.execute_input": "2021-03-30T10:41:19.556374Z",
     "iopub.status.busy": "2021-03-30T10:41:19.555548Z",
     "iopub.status.idle": "2021-03-30T10:41:19.909367Z",
     "shell.execute_reply": "2021-03-30T10:41:19.910564Z"
    },
    "papermill": {
     "duration": 0.402676,
     "end_time": "2021-03-30T10:41:19.910845",
     "exception": false,
     "start_time": "2021-03-30T10:41:19.508169",
     "status": "completed"
    },
    "tags": []
   },
   "outputs": [
    {
     "name": "stdout",
     "output_type": "stream",
     "text": [
      "input = Where are you going\n",
      "output = तुम कहाँ जा रहे हो? <EOS>\n"
     ]
    },
    {
     "data": {
      "image/png": "[encoded data removed]",
      "text/plain": [
       "<Figure size 432x288 with 2 Axes>"
      ]
     },
     "metadata": {
      "needs_background": "light"
     },
     "output_type": "display_data"
    }
   ],
   "source": [
    "evaluateAndShowAttention(encoder1, attn_decoder1, \"Where are you going\", \"sent-2\")"
   ]
  },
  {
   "cell_type": "code",
   "execution_count": 28,
   "metadata": {
    "execution": {
     "iopub.execute_input": "2021-03-30T10:41:20.038950Z",
     "iopub.status.busy": "2021-03-30T10:41:20.037908Z",
     "iopub.status.idle": "2021-03-30T10:41:20.393953Z",
     "shell.execute_reply": "2021-03-30T10:41:20.394431Z"
    },
    "papermill": {
     "duration": 0.411997,
     "end_time": "2021-03-30T10:41:20.394589",
     "exception": false,
     "start_time": "2021-03-30T10:41:19.982592",
     "status": "completed"
    },
    "tags": []
   },
   "outputs": [
    {
     "name": "stdout",
     "output_type": "stream",
     "text": [
      "input = Do you know him?\n",
      "output = क्या तुम्हें गोली है क्या? <EOS>\n"
     ]
    },
    {
     "data": {
      "image/png": "[encoded data removed]",
      "text/plain": [
       "<Figure size 432x288 with 2 Axes>"
      ]
     },
     "metadata": {
      "needs_background": "light"
     },
     "output_type": "display_data"
    }
   ],
   "source": [
    "evaluateAndShowAttention(encoder1, attn_decoder1, \"Do you know him?\", \"sent-2\")"
   ]
  },
  {
   "cell_type": "markdown",
   "metadata": {
    "papermill": {
     "duration": 0.044927,
     "end_time": "2021-03-30T10:41:20.509204",
     "exception": false,
     "start_time": "2021-03-30T10:41:20.464277",
     "status": "completed"
    },
    "tags": []
   },
   "source": [
    "Conclusion - This is a very simple architecture trained a small dataset. Yet, the model has learned pretty good for small sentences. It can be futher improved by training it on large corpus.\n",
    "\n",
    "### If you found this project interesting consider UPVOTING it. Thanks!\n",
    "\n",
    "References \n",
    "- Ilya Sutskever, Oriol Vinyals, Quoc V. Le Sequence to sequence learning with neural networks\n",
    "- Dzmitry Bahdanau, KyungHyun Cho, Yoshua Bengio∗ (2016) Neural machine translation by jointly learning to align and translate\n",
    "\n",
    "Happy Learning!"
   ]
  },
  {
   "cell_type": "code",
   "execution_count": null,
   "metadata": {
    "papermill": {
     "duration": 0.044993,
     "end_time": "2021-03-30T10:41:20.599977",
     "exception": false,
     "start_time": "2021-03-30T10:41:20.554984",
     "status": "completed"
    },
    "tags": []
   },
   "outputs": [],
   "source": []
  }
 ],
 "metadata": {
  "kernelspec": {
   "display_name": "Python 3",
   "language": "python",
   "name": "python3"
  },
  "language_info": {
   "codemirror_mode": {
    "name": "ipython",
    "version": 3
   },
   "file_extension": ".py",
   "mimetype": "text/x-python",
   "name": "python",
   "nbconvert_exporter": "python",
   "pygments_lexer": "ipython3",
   "version": "3.7.9"
  },
  "papermill": {
   "default_parameters": {},
   "duration": 1162.499003,
   "end_time": "2021-03-30T10:41:21.854499",
   "environment_variables": {},
   "exception": null,
   "input_path": "__notebook__.ipynb",
   "output_path": "__notebook__.ipynb",
   "parameters": {},
   "start_time": "2021-03-30T10:21:59.355496",
   "version": "2.2.2"
  }
 },
 "nbformat": 4,
 "nbformat_minor": 4
}
