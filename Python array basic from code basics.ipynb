{
 "cells": [
  {
   "cell_type": "code",
   "execution_count": 1,
   "id": "64874efb",
   "metadata": {},
   "outputs": [],
   "source": [
    "exp = {'January': 2200,'February': 2350, 'March': 2600, 'April': 2130,'May': 2190}"
   ]
  },
  {
   "cell_type": "code",
   "execution_count": 2,
   "id": "d78c6efd",
   "metadata": {},
   "outputs": [
    {
     "data": {
      "text/plain": [
       "150"
      ]
     },
     "execution_count": 2,
     "metadata": {},
     "output_type": "execute_result"
    }
   ],
   "source": [
    "extra = exp['February']-exp['January']\n",
    "extra"
   ]
  },
  {
   "cell_type": "code",
   "execution_count": 4,
   "id": "624b7cff",
   "metadata": {},
   "outputs": [
    {
     "data": {
      "text/plain": [
       "7150"
      ]
     },
     "execution_count": 4,
     "metadata": {},
     "output_type": "execute_result"
    }
   ],
   "source": [
    "tot = exp['January'] +exp['February']+exp['March']\n",
    "tot"
   ]
  },
  {
   "cell_type": "code",
   "execution_count": 9,
   "id": "6d2e7059",
   "metadata": {},
   "outputs": [
    {
     "name": "stdout",
     "output_type": "stream",
     "text": [
      "March\n"
     ]
    }
   ],
   "source": [
    "for i in exp:\n",
    "    if exp[i] == 2600:\n",
    "        print(i)\n"
   ]
  },
  {
   "cell_type": "code",
   "execution_count": 11,
   "id": "522c6de1",
   "metadata": {},
   "outputs": [
    {
     "data": {
      "text/plain": [
       "{'January': 2200,\n",
       " 'February': 2350,\n",
       " 'March': 2600,\n",
       " 'April': 2130,\n",
       " 'May': 2190,\n",
       " 'Jun': 1980}"
      ]
     },
     "execution_count": 11,
     "metadata": {},
     "output_type": "execute_result"
    }
   ],
   "source": [
    "exp['Jun'] =1980\n",
    "exp"
   ]
  },
  {
   "cell_type": "code",
   "execution_count": 12,
   "id": "cd283680",
   "metadata": {},
   "outputs": [],
   "source": [
    "exp['April'] = exp[\"April\"] -200"
   ]
  },
  {
   "cell_type": "code",
   "execution_count": 13,
   "id": "ca7391f0",
   "metadata": {},
   "outputs": [
    {
     "data": {
      "text/plain": [
       "{'January': 2200,\n",
       " 'February': 2350,\n",
       " 'March': 2600,\n",
       " 'April': 1930,\n",
       " 'May': 2190,\n",
       " 'Jun': 1980}"
      ]
     },
     "execution_count": 13,
     "metadata": {},
     "output_type": "execute_result"
    }
   ],
   "source": [
    "exp"
   ]
  },
  {
   "cell_type": "code",
   "execution_count": 59,
   "id": "ab96353f",
   "metadata": {},
   "outputs": [],
   "source": [
    "heros=['spider man','thor','hulk','iron man','captain america']"
   ]
  },
  {
   "cell_type": "code",
   "execution_count": 60,
   "id": "c27f3a8b",
   "metadata": {},
   "outputs": [
    {
     "data": {
      "text/plain": [
       "5"
      ]
     },
     "execution_count": 60,
     "metadata": {},
     "output_type": "execute_result"
    }
   ],
   "source": [
    "len(heros)"
   ]
  },
  {
   "cell_type": "code",
   "execution_count": 61,
   "id": "69b34076",
   "metadata": {},
   "outputs": [],
   "source": [
    "heros.append('black panther')"
   ]
  },
  {
   "cell_type": "code",
   "execution_count": 62,
   "id": "cbdd77f1",
   "metadata": {},
   "outputs": [
    {
     "data": {
      "text/plain": [
       "['spider man', 'thor', 'hulk', 'iron man', 'captain america', 'black panther']"
      ]
     },
     "execution_count": 62,
     "metadata": {},
     "output_type": "execute_result"
    }
   ],
   "source": [
    "heros"
   ]
  },
  {
   "cell_type": "code",
   "execution_count": 63,
   "id": "eacdb31e",
   "metadata": {},
   "outputs": [
    {
     "data": {
      "text/plain": [
       "'black panther'"
      ]
     },
     "execution_count": 63,
     "metadata": {},
     "output_type": "execute_result"
    }
   ],
   "source": [
    "heros.pop()"
   ]
  },
  {
   "cell_type": "code",
   "execution_count": 64,
   "id": "70e36123",
   "metadata": {},
   "outputs": [
    {
     "data": {
      "text/plain": [
       "['spider man', 'thor', 'hulk', 'black panther', 'iron man', 'captain america']"
      ]
     },
     "execution_count": 64,
     "metadata": {},
     "output_type": "execute_result"
    }
   ],
   "source": [
    "heros.insert(3,'black panther')\n",
    "heros"
   ]
  },
  {
   "cell_type": "code",
   "execution_count": 65,
   "id": "82dcd5ac",
   "metadata": {},
   "outputs": [],
   "source": [
    "heros = ['dr strange' if i == 'thor' or i == 'hulk' else i for i in heros ]"
   ]
  },
  {
   "cell_type": "code",
   "execution_count": 66,
   "id": "a9b15339",
   "metadata": {},
   "outputs": [
    {
     "data": {
      "text/plain": [
       "['spider man',\n",
       " 'dr strange',\n",
       " 'dr strange',\n",
       " 'black panther',\n",
       " 'iron man',\n",
       " 'captain america']"
      ]
     },
     "execution_count": 66,
     "metadata": {},
     "output_type": "execute_result"
    }
   ],
   "source": [
    "heros"
   ]
  },
  {
   "cell_type": "code",
   "execution_count": 68,
   "id": "d801a1c6",
   "metadata": {},
   "outputs": [],
   "source": [
    "heros.sort()"
   ]
  },
  {
   "cell_type": "code",
   "execution_count": 69,
   "id": "27d60b24",
   "metadata": {},
   "outputs": [
    {
     "data": {
      "text/plain": [
       "['black panther',\n",
       " 'captain america',\n",
       " 'dr strange',\n",
       " 'dr strange',\n",
       " 'iron man',\n",
       " 'spider man']"
      ]
     },
     "execution_count": 69,
     "metadata": {},
     "output_type": "execute_result"
    }
   ],
   "source": [
    "heros"
   ]
  },
  {
   "cell_type": "code",
   "execution_count": 74,
   "id": "34e4fbb6",
   "metadata": {},
   "outputs": [
    {
     "name": "stdout",
     "output_type": "stream",
     "text": [
      "Enter a number:99\n",
      "[1, 3, 5, 7, 9, 11, 13, 15, 17, 19, 21, 23, 25, 27, 29, 31, 33, 35, 37, 39, 41, 43, 45, 47, 49, 51, 53, 55, 57, 59, 61, 63, 65, 67, 69, 71, 73, 75, 77, 79, 81, 83, 85, 87, 89, 91, 93, 95, 97]\n"
     ]
    }
   ],
   "source": [
    "max = int(input('Enter a number:'))\n",
    "l1 = []\n",
    "for i in range(max):\n",
    "    if i%2 ==1:\n",
    "        l1.append(i)\n",
    "print(l1)"
   ]
  },
  {
   "cell_type": "code",
   "execution_count": null,
   "id": "0f1e2c35",
   "metadata": {},
   "outputs": [],
   "source": []
  }
 ],
 "metadata": {
  "kernelspec": {
   "display_name": "Python 3 (ipykernel)",
   "language": "python",
   "name": "python3"
  },
  "language_info": {
   "codemirror_mode": {
    "name": "ipython",
    "version": 3
   },
   "file_extension": ".py",
   "mimetype": "text/x-python",
   "name": "python",
   "nbconvert_exporter": "python",
   "pygments_lexer": "ipython3",
   "version": "3.9.12"
  }
 },
 "nbformat": 4,
 "nbformat_minor": 5
}
